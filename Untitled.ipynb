{
 "cells": [
  {
   "cell_type": "code",
   "execution_count": 1,
   "id": "03db04ac",
   "metadata": {},
   "outputs": [],
   "source": [
    "import pandas as pd\n",
    "import numpy as np\n",
    "import matplotlib as plt\n",
    "import seaborn as sns\n",
    "from sklearn.metrics import accuracy_score"
   ]
  },
  {
   "cell_type": "code",
   "execution_count": 2,
   "id": "976acafa",
   "metadata": {},
   "outputs": [],
   "source": [
    "train_set=pd.read_csv('train.csv')\n",
    "test_set=pd.read_csv('test.csv')\n",
    "var_nominale=['MSSubClass','MSZoning','Street','LotShape','LandContour','Condition1','Condition2','Utilities','LotConfig','LandSlope','Neighborhood','BldgType','HouseStyle','OverallQual','OverallCond','RoofStyle','RoofMatl','Exterior1st','Exterior2nd','ExterQual','Foundation','ExterCond','BsmtQual','BsmtCond','BsmtExposure','BsmtFinType1','BsmtFinType2','Heating','HeatingQC','CentralAir','Electrical','SaleCondition','SaleType','PavedDrive','GarageCond','GarageQual','GarageFinish','GarageType','Functional','KitchenQual']\n",
    "# YearBuilt: Original construction date\n",
    "# YearRemodAdd: Remodel date (same as construction date if no remodeling or a\n",
    "var_quantitative1=['renovation','KitchenAbvGr','BedroomAbvGr','1stFlrSF','2ndFlrSF','LowQualFinSF','GrLivArea','BsmtFullBath','BsmtHalfBath','FullBath','HalfBath','TotRmsAbvGrd','Fireplaces','GarageYrBlt','GarageCars','GarageArea','WoodDeckSF','OpenPorchSF','EnclosedPorch','ScreenPorch','3SsnPorch','LotFrontage','LotArea','BsmtFinSF1','BsmtFinSF2','BsmtUnfSF','TotalBsmtSF','YrSold','MoSold','MiscVal','PoolArea']\n",
    "var_quantitative=['YearRemodAdd','YearBuilt','KitchenAbvGr','BedroomAbvGr','1stFlrSF','2ndFlrSF','LowQualFinSF','GrLivArea','BsmtFullBath','BsmtHalfBath','FullBath','HalfBath','TotRmsAbvGrd','Fireplaces','GarageYrBlt','GarageCars','GarageArea','WoodDeckSF','OpenPorchSF','EnclosedPorch','ScreenPorch','3SsnPorch','LotFrontage','LotArea','BsmtFinSF1','BsmtFinSF2','BsmtUnfSF','TotalBsmtSF','YrSold','MoSold','MiscVal','PoolArea']"
   ]
  },
  {
   "cell_type": "code",
   "execution_count": 3,
   "id": "230deb65",
   "metadata": {},
   "outputs": [
    {
     "data": {
      "text/html": [
       "<div>\n",
       "<style scoped>\n",
       "    .dataframe tbody tr th:only-of-type {\n",
       "        vertical-align: middle;\n",
       "    }\n",
       "\n",
       "    .dataframe tbody tr th {\n",
       "        vertical-align: top;\n",
       "    }\n",
       "\n",
       "    .dataframe thead th {\n",
       "        text-align: right;\n",
       "    }\n",
       "</style>\n",
       "<table border=\"1\" class=\"dataframe\">\n",
       "  <thead>\n",
       "    <tr style=\"text-align: right;\">\n",
       "      <th></th>\n",
       "      <th>YearRemodAdd</th>\n",
       "      <th>YearBuilt</th>\n",
       "      <th>KitchenAbvGr</th>\n",
       "      <th>BedroomAbvGr</th>\n",
       "      <th>1stFlrSF</th>\n",
       "      <th>2ndFlrSF</th>\n",
       "      <th>LowQualFinSF</th>\n",
       "      <th>GrLivArea</th>\n",
       "      <th>BsmtFullBath</th>\n",
       "      <th>BsmtHalfBath</th>\n",
       "      <th>...</th>\n",
       "      <th>LotFrontage</th>\n",
       "      <th>LotArea</th>\n",
       "      <th>BsmtFinSF1</th>\n",
       "      <th>BsmtFinSF2</th>\n",
       "      <th>BsmtUnfSF</th>\n",
       "      <th>TotalBsmtSF</th>\n",
       "      <th>YrSold</th>\n",
       "      <th>MoSold</th>\n",
       "      <th>MiscVal</th>\n",
       "      <th>PoolArea</th>\n",
       "    </tr>\n",
       "  </thead>\n",
       "  <tbody>\n",
       "    <tr>\n",
       "      <th>count</th>\n",
       "      <td>1460.000000</td>\n",
       "      <td>1460.000000</td>\n",
       "      <td>1460.000000</td>\n",
       "      <td>1460.000000</td>\n",
       "      <td>1460.000000</td>\n",
       "      <td>1460.000000</td>\n",
       "      <td>1460.000000</td>\n",
       "      <td>1460.000000</td>\n",
       "      <td>1460.000000</td>\n",
       "      <td>1460.000000</td>\n",
       "      <td>...</td>\n",
       "      <td>1201.000000</td>\n",
       "      <td>1460.000000</td>\n",
       "      <td>1460.000000</td>\n",
       "      <td>1460.000000</td>\n",
       "      <td>1460.000000</td>\n",
       "      <td>1460.000000</td>\n",
       "      <td>1460.000000</td>\n",
       "      <td>1460.000000</td>\n",
       "      <td>1460.000000</td>\n",
       "      <td>1460.000000</td>\n",
       "    </tr>\n",
       "    <tr>\n",
       "      <th>mean</th>\n",
       "      <td>1984.865753</td>\n",
       "      <td>1971.267808</td>\n",
       "      <td>1.046575</td>\n",
       "      <td>2.866438</td>\n",
       "      <td>1162.626712</td>\n",
       "      <td>346.992466</td>\n",
       "      <td>5.844521</td>\n",
       "      <td>1515.463699</td>\n",
       "      <td>0.425342</td>\n",
       "      <td>0.057534</td>\n",
       "      <td>...</td>\n",
       "      <td>70.049958</td>\n",
       "      <td>10516.828082</td>\n",
       "      <td>443.639726</td>\n",
       "      <td>46.549315</td>\n",
       "      <td>567.240411</td>\n",
       "      <td>1057.429452</td>\n",
       "      <td>2007.815753</td>\n",
       "      <td>6.321918</td>\n",
       "      <td>43.489041</td>\n",
       "      <td>2.758904</td>\n",
       "    </tr>\n",
       "    <tr>\n",
       "      <th>std</th>\n",
       "      <td>20.645407</td>\n",
       "      <td>30.202904</td>\n",
       "      <td>0.220338</td>\n",
       "      <td>0.815778</td>\n",
       "      <td>386.587738</td>\n",
       "      <td>436.528436</td>\n",
       "      <td>48.623081</td>\n",
       "      <td>525.480383</td>\n",
       "      <td>0.518911</td>\n",
       "      <td>0.238753</td>\n",
       "      <td>...</td>\n",
       "      <td>24.284752</td>\n",
       "      <td>9981.264932</td>\n",
       "      <td>456.098091</td>\n",
       "      <td>161.319273</td>\n",
       "      <td>441.866955</td>\n",
       "      <td>438.705324</td>\n",
       "      <td>1.328095</td>\n",
       "      <td>2.703626</td>\n",
       "      <td>496.123024</td>\n",
       "      <td>40.177307</td>\n",
       "    </tr>\n",
       "    <tr>\n",
       "      <th>min</th>\n",
       "      <td>1950.000000</td>\n",
       "      <td>1872.000000</td>\n",
       "      <td>0.000000</td>\n",
       "      <td>0.000000</td>\n",
       "      <td>334.000000</td>\n",
       "      <td>0.000000</td>\n",
       "      <td>0.000000</td>\n",
       "      <td>334.000000</td>\n",
       "      <td>0.000000</td>\n",
       "      <td>0.000000</td>\n",
       "      <td>...</td>\n",
       "      <td>21.000000</td>\n",
       "      <td>1300.000000</td>\n",
       "      <td>0.000000</td>\n",
       "      <td>0.000000</td>\n",
       "      <td>0.000000</td>\n",
       "      <td>0.000000</td>\n",
       "      <td>2006.000000</td>\n",
       "      <td>1.000000</td>\n",
       "      <td>0.000000</td>\n",
       "      <td>0.000000</td>\n",
       "    </tr>\n",
       "    <tr>\n",
       "      <th>25%</th>\n",
       "      <td>1967.000000</td>\n",
       "      <td>1954.000000</td>\n",
       "      <td>1.000000</td>\n",
       "      <td>2.000000</td>\n",
       "      <td>882.000000</td>\n",
       "      <td>0.000000</td>\n",
       "      <td>0.000000</td>\n",
       "      <td>1129.500000</td>\n",
       "      <td>0.000000</td>\n",
       "      <td>0.000000</td>\n",
       "      <td>...</td>\n",
       "      <td>59.000000</td>\n",
       "      <td>7553.500000</td>\n",
       "      <td>0.000000</td>\n",
       "      <td>0.000000</td>\n",
       "      <td>223.000000</td>\n",
       "      <td>795.750000</td>\n",
       "      <td>2007.000000</td>\n",
       "      <td>5.000000</td>\n",
       "      <td>0.000000</td>\n",
       "      <td>0.000000</td>\n",
       "    </tr>\n",
       "    <tr>\n",
       "      <th>50%</th>\n",
       "      <td>1994.000000</td>\n",
       "      <td>1973.000000</td>\n",
       "      <td>1.000000</td>\n",
       "      <td>3.000000</td>\n",
       "      <td>1087.000000</td>\n",
       "      <td>0.000000</td>\n",
       "      <td>0.000000</td>\n",
       "      <td>1464.000000</td>\n",
       "      <td>0.000000</td>\n",
       "      <td>0.000000</td>\n",
       "      <td>...</td>\n",
       "      <td>69.000000</td>\n",
       "      <td>9478.500000</td>\n",
       "      <td>383.500000</td>\n",
       "      <td>0.000000</td>\n",
       "      <td>477.500000</td>\n",
       "      <td>991.500000</td>\n",
       "      <td>2008.000000</td>\n",
       "      <td>6.000000</td>\n",
       "      <td>0.000000</td>\n",
       "      <td>0.000000</td>\n",
       "    </tr>\n",
       "    <tr>\n",
       "      <th>75%</th>\n",
       "      <td>2004.000000</td>\n",
       "      <td>2000.000000</td>\n",
       "      <td>1.000000</td>\n",
       "      <td>3.000000</td>\n",
       "      <td>1391.250000</td>\n",
       "      <td>728.000000</td>\n",
       "      <td>0.000000</td>\n",
       "      <td>1776.750000</td>\n",
       "      <td>1.000000</td>\n",
       "      <td>0.000000</td>\n",
       "      <td>...</td>\n",
       "      <td>80.000000</td>\n",
       "      <td>11601.500000</td>\n",
       "      <td>712.250000</td>\n",
       "      <td>0.000000</td>\n",
       "      <td>808.000000</td>\n",
       "      <td>1298.250000</td>\n",
       "      <td>2009.000000</td>\n",
       "      <td>8.000000</td>\n",
       "      <td>0.000000</td>\n",
       "      <td>0.000000</td>\n",
       "    </tr>\n",
       "    <tr>\n",
       "      <th>max</th>\n",
       "      <td>2010.000000</td>\n",
       "      <td>2010.000000</td>\n",
       "      <td>3.000000</td>\n",
       "      <td>8.000000</td>\n",
       "      <td>4692.000000</td>\n",
       "      <td>2065.000000</td>\n",
       "      <td>572.000000</td>\n",
       "      <td>5642.000000</td>\n",
       "      <td>3.000000</td>\n",
       "      <td>2.000000</td>\n",
       "      <td>...</td>\n",
       "      <td>313.000000</td>\n",
       "      <td>215245.000000</td>\n",
       "      <td>5644.000000</td>\n",
       "      <td>1474.000000</td>\n",
       "      <td>2336.000000</td>\n",
       "      <td>6110.000000</td>\n",
       "      <td>2010.000000</td>\n",
       "      <td>12.000000</td>\n",
       "      <td>15500.000000</td>\n",
       "      <td>738.000000</td>\n",
       "    </tr>\n",
       "  </tbody>\n",
       "</table>\n",
       "<p>8 rows × 32 columns</p>\n",
       "</div>"
      ],
      "text/plain": [
       "       YearRemodAdd    YearBuilt  KitchenAbvGr  BedroomAbvGr     1stFlrSF  \\\n",
       "count   1460.000000  1460.000000   1460.000000   1460.000000  1460.000000   \n",
       "mean    1984.865753  1971.267808      1.046575      2.866438  1162.626712   \n",
       "std       20.645407    30.202904      0.220338      0.815778   386.587738   \n",
       "min     1950.000000  1872.000000      0.000000      0.000000   334.000000   \n",
       "25%     1967.000000  1954.000000      1.000000      2.000000   882.000000   \n",
       "50%     1994.000000  1973.000000      1.000000      3.000000  1087.000000   \n",
       "75%     2004.000000  2000.000000      1.000000      3.000000  1391.250000   \n",
       "max     2010.000000  2010.000000      3.000000      8.000000  4692.000000   \n",
       "\n",
       "          2ndFlrSF  LowQualFinSF    GrLivArea  BsmtFullBath  BsmtHalfBath  \\\n",
       "count  1460.000000   1460.000000  1460.000000   1460.000000   1460.000000   \n",
       "mean    346.992466      5.844521  1515.463699      0.425342      0.057534   \n",
       "std     436.528436     48.623081   525.480383      0.518911      0.238753   \n",
       "min       0.000000      0.000000   334.000000      0.000000      0.000000   \n",
       "25%       0.000000      0.000000  1129.500000      0.000000      0.000000   \n",
       "50%       0.000000      0.000000  1464.000000      0.000000      0.000000   \n",
       "75%     728.000000      0.000000  1776.750000      1.000000      0.000000   \n",
       "max    2065.000000    572.000000  5642.000000      3.000000      2.000000   \n",
       "\n",
       "       ...  LotFrontage        LotArea   BsmtFinSF1   BsmtFinSF2    BsmtUnfSF  \\\n",
       "count  ...  1201.000000    1460.000000  1460.000000  1460.000000  1460.000000   \n",
       "mean   ...    70.049958   10516.828082   443.639726    46.549315   567.240411   \n",
       "std    ...    24.284752    9981.264932   456.098091   161.319273   441.866955   \n",
       "min    ...    21.000000    1300.000000     0.000000     0.000000     0.000000   \n",
       "25%    ...    59.000000    7553.500000     0.000000     0.000000   223.000000   \n",
       "50%    ...    69.000000    9478.500000   383.500000     0.000000   477.500000   \n",
       "75%    ...    80.000000   11601.500000   712.250000     0.000000   808.000000   \n",
       "max    ...   313.000000  215245.000000  5644.000000  1474.000000  2336.000000   \n",
       "\n",
       "       TotalBsmtSF       YrSold       MoSold       MiscVal     PoolArea  \n",
       "count  1460.000000  1460.000000  1460.000000   1460.000000  1460.000000  \n",
       "mean   1057.429452  2007.815753     6.321918     43.489041     2.758904  \n",
       "std     438.705324     1.328095     2.703626    496.123024    40.177307  \n",
       "min       0.000000  2006.000000     1.000000      0.000000     0.000000  \n",
       "25%     795.750000  2007.000000     5.000000      0.000000     0.000000  \n",
       "50%     991.500000  2008.000000     6.000000      0.000000     0.000000  \n",
       "75%    1298.250000  2009.000000     8.000000      0.000000     0.000000  \n",
       "max    6110.000000  2010.000000    12.000000  15500.000000   738.000000  \n",
       "\n",
       "[8 rows x 32 columns]"
      ]
     },
     "execution_count": 3,
     "metadata": {},
     "output_type": "execute_result"
    }
   ],
   "source": [
    "train_set[var_quantitative].describe()"
   ]
  },
  {
   "cell_type": "code",
   "execution_count": 4,
   "id": "ecdd22b8",
   "metadata": {},
   "outputs": [],
   "source": [
    "data_list1=train_set.columns.tolist()\n",
    "data_list2=test_set.columns.tolist()"
   ]
  },
  {
   "cell_type": "code",
   "execution_count": null,
   "id": "75c4e696",
   "metadata": {},
   "outputs": [],
   "source": [
    "\n"
   ]
  },
  {
   "cell_type": "code",
   "execution_count": 5,
   "id": "703ff475",
   "metadata": {},
   "outputs": [
    {
     "data": {
      "text/plain": [
       "5    821\n",
       "6    252\n",
       "7    205\n",
       "8     72\n",
       "4     57\n",
       "3     25\n",
       "9     22\n",
       "2      5\n",
       "1      1\n",
       "Name: OverallCond, dtype: int64"
      ]
     },
     "execution_count": 5,
     "metadata": {},
     "output_type": "execute_result"
    }
   ],
   "source": [
    "train_set['OverallCond'].value_counts()"
   ]
  },
  {
   "cell_type": "code",
   "execution_count": 6,
   "id": "4526a939",
   "metadata": {},
   "outputs": [],
   "source": [
    "#Supprimer les colonnes pour lequels on atrop de val manquantes \n",
    "train_set=train_set.drop(['MiscFeature','Fence','PoolQC','Alley','FireplaceQu','MasVnrType'],axis=1)\n",
    "test_set=test_set.drop(['MiscFeature','Fence','PoolQC','Alley','FireplaceQu','MasVnrType'],axis=1)"
   ]
  },
  {
   "cell_type": "code",
   "execution_count": 7,
   "id": "61a041ae",
   "metadata": {},
   "outputs": [],
   "source": [
    "train_set['GarageQual'].value_counts()\n",
    "train_set['GarageFinish'].value_counts()\n",
    "train_set['GarageType'].value_counts()\n",
    "train_set['GarageCond'].value_counts()\n",
    "train_set['Electrical'].value_counts()\n",
    "train_set['BsmtQual'].value_counts()\n",
    "train_set['BsmtCond'].value_counts()\n",
    "train_set['BsmtExposure'].value_counts()\n",
    "train_set['BsmtFinType1'].value_counts()\n",
    "train_set['BsmtFinType2'].value_counts()\n",
    "\n",
    "#numerical\n",
    "train_set['GarageYrBlt'].value_counts()\n",
    "train_set['LotFrontage'].value_counts()\n",
    "train_set['MasVnrArea'].value_counts()\n",
    "\n",
    "\n",
    "\n",
    "\n",
    "avg_1=train_set['GarageYrBlt'].astype('float').mean(axis=0)\n",
    "avg_2=train_set['LotFrontage'].astype('float').mean(axis=0)\n",
    "avg_3=train_set['MasVnrArea'].astype('float').mean(axis=0)"
   ]
  },
  {
   "cell_type": "code",
   "execution_count": 8,
   "id": "ec05c119",
   "metadata": {},
   "outputs": [],
   "source": [
    "train_set['GarageQual'].replace(np.nan,train_set['GarageQual'][0],inplace=True)\n",
    "train_set['GarageCond'].replace(np.nan,train_set['GarageCond'][0],inplace=True)\n",
    "train_set['GarageFinish'].replace(np.nan,train_set['GarageFinish'][5],inplace=True)\n",
    "train_set['GarageType'].replace(np.nan,train_set['GarageType'][0],inplace=True)\n",
    "train_set['Electrical'].replace(np.nan,train_set['Electrical'][0],inplace=True)\n",
    "train_set['BsmtQual'].replace(np.nan,train_set['BsmtQual'][3],inplace=True)\n",
    "train_set['BsmtCond'].replace(np.nan,train_set['BsmtCond'][0],inplace=True)\n",
    "train_set['BsmtExposure'].replace(np.nan,train_set['BsmtExposure'][0],inplace=True)\n",
    "train_set['BsmtFinType1'].replace(np.nan,train_set['BsmtFinType1'][8],inplace=True)\n",
    "train_set['BsmtFinType2'].replace(np.nan,train_set['BsmtFinType2'][0],inplace=True)\n",
    "train_set['GarageYrBlt'].replace(np.nan,avg_1,inplace=True)\n",
    "train_set['LotFrontage'].replace(np.nan,avg_2,inplace=True)\n",
    "train_set['MasVnrArea'].replace(np.nan,avg_3,inplace=True)\n",
    "\n",
    "\n",
    "\n",
    "test_set['GarageQual'].replace(np.nan,train_set['GarageQual'][0],inplace=True)\n",
    "test_set['GarageCond'].replace(np.nan,train_set['GarageCond'][0],inplace=True)\n",
    "test_set['GarageFinish'].replace(np.nan,train_set['GarageFinish'][5],inplace=True)\n",
    "test_set['GarageType'].replace(np.nan,train_set['GarageType'][0],inplace=True)\n",
    "test_set['Electrical'].replace(np.nan,train_set['Electrical'][0],inplace=True)\n",
    "test_set['BsmtQual'].replace(np.nan,train_set['BsmtQual'][3],inplace=True)\n",
    "test_set['BsmtCond'].replace(np.nan,train_set['BsmtCond'][0],inplace=True)\n",
    "test_set['BsmtExposure'].replace(np.nan,train_set['BsmtExposure'][0],inplace=True)\n",
    "test_set['BsmtFinType1'].replace(np.nan,train_set['BsmtFinType1'][8],inplace=True)\n",
    "test_set['BsmtFinType2'].replace(np.nan,train_set['BsmtFinType2'][0],inplace=True)\n",
    "test_set['GarageYrBlt'].replace(np.nan,avg_1,inplace=True)\n",
    "test_set['LotFrontage'].replace(np.nan,avg_2,inplace=True)\n",
    "test_set['MasVnrArea'].replace(np.nan,avg_3,inplace=True)\n",
    "\n",
    "test_set.dropna(axis=0,inplace=True)"
   ]
  },
  {
   "cell_type": "code",
   "execution_count": 9,
   "id": "aa9c0d84",
   "metadata": {},
   "outputs": [],
   "source": [
    "train_set.drop(train_set['GrLivArea'][train_set['GrLivArea']>4000].index,inplace=True)"
   ]
  },
  {
   "cell_type": "code",
   "execution_count": 10,
   "id": "3f99b39f",
   "metadata": {},
   "outputs": [
    {
     "data": {
      "text/plain": [
       "Id               0\n",
       "TotRmsAbvGrd     0\n",
       "KitchenQual      0\n",
       "KitchenAbvGr     0\n",
       "BedroomAbvGr     0\n",
       "                ..\n",
       "Exterior1st      0\n",
       "RoofMatl         0\n",
       "RoofStyle        0\n",
       "YearBuilt        0\n",
       "SaleCondition    0\n",
       "Length: 74, dtype: int64"
      ]
     },
     "execution_count": 10,
     "metadata": {},
     "output_type": "execute_result"
    }
   ],
   "source": [
    "train_set.isnull().sum().sort_values()\n",
    "test_set.isnull().sum().sort_values()\n"
   ]
  },
  {
   "cell_type": "code",
   "execution_count": 11,
   "id": "a9c0333f",
   "metadata": {},
   "outputs": [],
   "source": [
    "# dummy=pd.get_dummies(train_set[var_nominale])\n",
    "# train_set=pd.concat([train_set,dummy],axis=1)\n",
    "# train_set.drop('Id',axis=1,inplace=True)\n",
    "# train_set.drop(var_nominale,axis=1,inplace=True)\n",
    "\n",
    "# dummy1=pd.get_dummies(train_set[var_nominale])\n",
    "# test_set=pd.concat([test_set,dummy1],axis=1)\n",
    "# test_set.drop(var_nominale,axis=1,inplace=True)\n",
    "# test_set.drop('Id',axis=1,inplace=True)"
   ]
  },
  {
   "cell_type": "code",
   "execution_count": 12,
   "id": "c9702538",
   "metadata": {},
   "outputs": [],
   "source": [
    "# train_set['renovation']=train_set['YearRemodAdd']-train_set['YearBuilt']\n",
    "# train_set.drop(['YearRemodAdd','YearBuilt'],axis=1,inplace=True)\n",
    "# test_set['renovation']=test_set['YearRemodAdd']-test_set['YearBuilt']\n",
    "# test_set.drop(['YearRemodAdd','YearBuilt'],axis=1,inplace=True)"
   ]
  },
  {
   "cell_type": "code",
   "execution_count": 13,
   "id": "a2417ffc",
   "metadata": {},
   "outputs": [
    {
     "data": {
      "text/html": [
       "<div>\n",
       "<style scoped>\n",
       "    .dataframe tbody tr th:only-of-type {\n",
       "        vertical-align: middle;\n",
       "    }\n",
       "\n",
       "    .dataframe tbody tr th {\n",
       "        vertical-align: top;\n",
       "    }\n",
       "\n",
       "    .dataframe thead th {\n",
       "        text-align: right;\n",
       "    }\n",
       "</style>\n",
       "<table border=\"1\" class=\"dataframe\">\n",
       "  <thead>\n",
       "    <tr style=\"text-align: right;\">\n",
       "      <th></th>\n",
       "      <th>LotFrontage</th>\n",
       "      <th>LotArea</th>\n",
       "      <th>MasVnrArea</th>\n",
       "      <th>BsmtFinSF1</th>\n",
       "      <th>BsmtFinSF2</th>\n",
       "      <th>BsmtUnfSF</th>\n",
       "      <th>TotalBsmtSF</th>\n",
       "      <th>1stFlrSF</th>\n",
       "      <th>2ndFlrSF</th>\n",
       "      <th>LowQualFinSF</th>\n",
       "      <th>...</th>\n",
       "      <th>Functional_Min1</th>\n",
       "      <th>Functional_Min2</th>\n",
       "      <th>Functional_Mod</th>\n",
       "      <th>Functional_Sev</th>\n",
       "      <th>Functional_Typ</th>\n",
       "      <th>KitchenQual_Ex</th>\n",
       "      <th>KitchenQual_Fa</th>\n",
       "      <th>KitchenQual_Gd</th>\n",
       "      <th>KitchenQual_TA</th>\n",
       "      <th>renovation</th>\n",
       "    </tr>\n",
       "  </thead>\n",
       "  <tbody>\n",
       "    <tr>\n",
       "      <th>0</th>\n",
       "      <td>65.0</td>\n",
       "      <td>8450</td>\n",
       "      <td>196.0</td>\n",
       "      <td>706.0</td>\n",
       "      <td>0.0</td>\n",
       "      <td>150.0</td>\n",
       "      <td>856.0</td>\n",
       "      <td>856</td>\n",
       "      <td>854</td>\n",
       "      <td>0</td>\n",
       "      <td>...</td>\n",
       "      <td>0.0</td>\n",
       "      <td>0.0</td>\n",
       "      <td>0.0</td>\n",
       "      <td>0.0</td>\n",
       "      <td>1.0</td>\n",
       "      <td>0.0</td>\n",
       "      <td>0.0</td>\n",
       "      <td>1.0</td>\n",
       "      <td>0.0</td>\n",
       "      <td>0</td>\n",
       "    </tr>\n",
       "    <tr>\n",
       "      <th>1</th>\n",
       "      <td>80.0</td>\n",
       "      <td>9600</td>\n",
       "      <td>0.0</td>\n",
       "      <td>978.0</td>\n",
       "      <td>0.0</td>\n",
       "      <td>284.0</td>\n",
       "      <td>1262.0</td>\n",
       "      <td>1262</td>\n",
       "      <td>0</td>\n",
       "      <td>0</td>\n",
       "      <td>...</td>\n",
       "      <td>0.0</td>\n",
       "      <td>0.0</td>\n",
       "      <td>0.0</td>\n",
       "      <td>0.0</td>\n",
       "      <td>1.0</td>\n",
       "      <td>0.0</td>\n",
       "      <td>0.0</td>\n",
       "      <td>0.0</td>\n",
       "      <td>1.0</td>\n",
       "      <td>0</td>\n",
       "    </tr>\n",
       "    <tr>\n",
       "      <th>2</th>\n",
       "      <td>68.0</td>\n",
       "      <td>11250</td>\n",
       "      <td>162.0</td>\n",
       "      <td>486.0</td>\n",
       "      <td>0.0</td>\n",
       "      <td>434.0</td>\n",
       "      <td>920.0</td>\n",
       "      <td>920</td>\n",
       "      <td>866</td>\n",
       "      <td>0</td>\n",
       "      <td>...</td>\n",
       "      <td>0.0</td>\n",
       "      <td>0.0</td>\n",
       "      <td>0.0</td>\n",
       "      <td>0.0</td>\n",
       "      <td>1.0</td>\n",
       "      <td>0.0</td>\n",
       "      <td>0.0</td>\n",
       "      <td>1.0</td>\n",
       "      <td>0.0</td>\n",
       "      <td>1</td>\n",
       "    </tr>\n",
       "    <tr>\n",
       "      <th>3</th>\n",
       "      <td>60.0</td>\n",
       "      <td>9550</td>\n",
       "      <td>0.0</td>\n",
       "      <td>216.0</td>\n",
       "      <td>0.0</td>\n",
       "      <td>540.0</td>\n",
       "      <td>756.0</td>\n",
       "      <td>961</td>\n",
       "      <td>756</td>\n",
       "      <td>0</td>\n",
       "      <td>...</td>\n",
       "      <td>0.0</td>\n",
       "      <td>0.0</td>\n",
       "      <td>0.0</td>\n",
       "      <td>0.0</td>\n",
       "      <td>1.0</td>\n",
       "      <td>0.0</td>\n",
       "      <td>0.0</td>\n",
       "      <td>1.0</td>\n",
       "      <td>0.0</td>\n",
       "      <td>55</td>\n",
       "    </tr>\n",
       "    <tr>\n",
       "      <th>4</th>\n",
       "      <td>84.0</td>\n",
       "      <td>14260</td>\n",
       "      <td>350.0</td>\n",
       "      <td>655.0</td>\n",
       "      <td>0.0</td>\n",
       "      <td>490.0</td>\n",
       "      <td>1145.0</td>\n",
       "      <td>1145</td>\n",
       "      <td>1053</td>\n",
       "      <td>0</td>\n",
       "      <td>...</td>\n",
       "      <td>0.0</td>\n",
       "      <td>0.0</td>\n",
       "      <td>0.0</td>\n",
       "      <td>0.0</td>\n",
       "      <td>1.0</td>\n",
       "      <td>0.0</td>\n",
       "      <td>0.0</td>\n",
       "      <td>1.0</td>\n",
       "      <td>0.0</td>\n",
       "      <td>0</td>\n",
       "    </tr>\n",
       "    <tr>\n",
       "      <th>...</th>\n",
       "      <td>...</td>\n",
       "      <td>...</td>\n",
       "      <td>...</td>\n",
       "      <td>...</td>\n",
       "      <td>...</td>\n",
       "      <td>...</td>\n",
       "      <td>...</td>\n",
       "      <td>...</td>\n",
       "      <td>...</td>\n",
       "      <td>...</td>\n",
       "      <td>...</td>\n",
       "      <td>...</td>\n",
       "      <td>...</td>\n",
       "      <td>...</td>\n",
       "      <td>...</td>\n",
       "      <td>...</td>\n",
       "      <td>...</td>\n",
       "      <td>...</td>\n",
       "      <td>...</td>\n",
       "      <td>...</td>\n",
       "      <td>...</td>\n",
       "    </tr>\n",
       "    <tr>\n",
       "      <th>1454</th>\n",
       "      <td>21.0</td>\n",
       "      <td>1936</td>\n",
       "      <td>0.0</td>\n",
       "      <td>0.0</td>\n",
       "      <td>0.0</td>\n",
       "      <td>546.0</td>\n",
       "      <td>546.0</td>\n",
       "      <td>546</td>\n",
       "      <td>546</td>\n",
       "      <td>0</td>\n",
       "      <td>...</td>\n",
       "      <td>0.0</td>\n",
       "      <td>0.0</td>\n",
       "      <td>0.0</td>\n",
       "      <td>0.0</td>\n",
       "      <td>1.0</td>\n",
       "      <td>0.0</td>\n",
       "      <td>0.0</td>\n",
       "      <td>1.0</td>\n",
       "      <td>0.0</td>\n",
       "      <td>0</td>\n",
       "    </tr>\n",
       "    <tr>\n",
       "      <th>1455</th>\n",
       "      <td>21.0</td>\n",
       "      <td>1894</td>\n",
       "      <td>0.0</td>\n",
       "      <td>252.0</td>\n",
       "      <td>0.0</td>\n",
       "      <td>294.0</td>\n",
       "      <td>546.0</td>\n",
       "      <td>546</td>\n",
       "      <td>546</td>\n",
       "      <td>0</td>\n",
       "      <td>...</td>\n",
       "      <td>0.0</td>\n",
       "      <td>0.0</td>\n",
       "      <td>0.0</td>\n",
       "      <td>0.0</td>\n",
       "      <td>1.0</td>\n",
       "      <td>0.0</td>\n",
       "      <td>0.0</td>\n",
       "      <td>0.0</td>\n",
       "      <td>1.0</td>\n",
       "      <td>0</td>\n",
       "    </tr>\n",
       "    <tr>\n",
       "      <th>1456</th>\n",
       "      <td>160.0</td>\n",
       "      <td>20000</td>\n",
       "      <td>0.0</td>\n",
       "      <td>1224.0</td>\n",
       "      <td>0.0</td>\n",
       "      <td>0.0</td>\n",
       "      <td>1224.0</td>\n",
       "      <td>1224</td>\n",
       "      <td>0</td>\n",
       "      <td>0</td>\n",
       "      <td>...</td>\n",
       "      <td>1.0</td>\n",
       "      <td>0.0</td>\n",
       "      <td>0.0</td>\n",
       "      <td>0.0</td>\n",
       "      <td>0.0</td>\n",
       "      <td>0.0</td>\n",
       "      <td>0.0</td>\n",
       "      <td>0.0</td>\n",
       "      <td>1.0</td>\n",
       "      <td>36</td>\n",
       "    </tr>\n",
       "    <tr>\n",
       "      <th>1457</th>\n",
       "      <td>62.0</td>\n",
       "      <td>10441</td>\n",
       "      <td>0.0</td>\n",
       "      <td>337.0</td>\n",
       "      <td>0.0</td>\n",
       "      <td>575.0</td>\n",
       "      <td>912.0</td>\n",
       "      <td>970</td>\n",
       "      <td>0</td>\n",
       "      <td>0</td>\n",
       "      <td>...</td>\n",
       "      <td>0.0</td>\n",
       "      <td>0.0</td>\n",
       "      <td>0.0</td>\n",
       "      <td>0.0</td>\n",
       "      <td>1.0</td>\n",
       "      <td>0.0</td>\n",
       "      <td>0.0</td>\n",
       "      <td>1.0</td>\n",
       "      <td>0.0</td>\n",
       "      <td>0</td>\n",
       "    </tr>\n",
       "    <tr>\n",
       "      <th>1458</th>\n",
       "      <td>74.0</td>\n",
       "      <td>9627</td>\n",
       "      <td>94.0</td>\n",
       "      <td>758.0</td>\n",
       "      <td>0.0</td>\n",
       "      <td>238.0</td>\n",
       "      <td>996.0</td>\n",
       "      <td>996</td>\n",
       "      <td>1004</td>\n",
       "      <td>0</td>\n",
       "      <td>...</td>\n",
       "      <td>0.0</td>\n",
       "      <td>0.0</td>\n",
       "      <td>0.0</td>\n",
       "      <td>0.0</td>\n",
       "      <td>1.0</td>\n",
       "      <td>0.0</td>\n",
       "      <td>0.0</td>\n",
       "      <td>1.0</td>\n",
       "      <td>0.0</td>\n",
       "      <td>1</td>\n",
       "    </tr>\n",
       "  </tbody>\n",
       "</table>\n",
       "<p>2903 rows × 261 columns</p>\n",
       "</div>"
      ],
      "text/plain": [
       "      LotFrontage  LotArea  MasVnrArea  BsmtFinSF1  BsmtFinSF2  BsmtUnfSF  \\\n",
       "0            65.0     8450       196.0       706.0         0.0      150.0   \n",
       "1            80.0     9600         0.0       978.0         0.0      284.0   \n",
       "2            68.0    11250       162.0       486.0         0.0      434.0   \n",
       "3            60.0     9550         0.0       216.0         0.0      540.0   \n",
       "4            84.0    14260       350.0       655.0         0.0      490.0   \n",
       "...           ...      ...         ...         ...         ...        ...   \n",
       "1454         21.0     1936         0.0         0.0         0.0      546.0   \n",
       "1455         21.0     1894         0.0       252.0         0.0      294.0   \n",
       "1456        160.0    20000         0.0      1224.0         0.0        0.0   \n",
       "1457         62.0    10441         0.0       337.0         0.0      575.0   \n",
       "1458         74.0     9627        94.0       758.0         0.0      238.0   \n",
       "\n",
       "      TotalBsmtSF  1stFlrSF  2ndFlrSF  LowQualFinSF  ...  Functional_Min1  \\\n",
       "0           856.0       856       854             0  ...              0.0   \n",
       "1          1262.0      1262         0             0  ...              0.0   \n",
       "2           920.0       920       866             0  ...              0.0   \n",
       "3           756.0       961       756             0  ...              0.0   \n",
       "4          1145.0      1145      1053             0  ...              0.0   \n",
       "...           ...       ...       ...           ...  ...              ...   \n",
       "1454        546.0       546       546             0  ...              0.0   \n",
       "1455        546.0       546       546             0  ...              0.0   \n",
       "1456       1224.0      1224         0             0  ...              1.0   \n",
       "1457        912.0       970         0             0  ...              0.0   \n",
       "1458        996.0       996      1004             0  ...              0.0   \n",
       "\n",
       "      Functional_Min2  Functional_Mod  Functional_Sev  Functional_Typ  \\\n",
       "0                 0.0             0.0             0.0             1.0   \n",
       "1                 0.0             0.0             0.0             1.0   \n",
       "2                 0.0             0.0             0.0             1.0   \n",
       "3                 0.0             0.0             0.0             1.0   \n",
       "4                 0.0             0.0             0.0             1.0   \n",
       "...               ...             ...             ...             ...   \n",
       "1454              0.0             0.0             0.0             1.0   \n",
       "1455              0.0             0.0             0.0             1.0   \n",
       "1456              0.0             0.0             0.0             0.0   \n",
       "1457              0.0             0.0             0.0             1.0   \n",
       "1458              0.0             0.0             0.0             1.0   \n",
       "\n",
       "      KitchenQual_Ex  KitchenQual_Fa  KitchenQual_Gd  KitchenQual_TA  \\\n",
       "0                0.0             0.0             1.0             0.0   \n",
       "1                0.0             0.0             0.0             1.0   \n",
       "2                0.0             0.0             1.0             0.0   \n",
       "3                0.0             0.0             1.0             0.0   \n",
       "4                0.0             0.0             1.0             0.0   \n",
       "...              ...             ...             ...             ...   \n",
       "1454             0.0             0.0             1.0             0.0   \n",
       "1455             0.0             0.0             0.0             1.0   \n",
       "1456             0.0             0.0             0.0             1.0   \n",
       "1457             0.0             0.0             1.0             0.0   \n",
       "1458             0.0             0.0             1.0             0.0   \n",
       "\n",
       "      renovation  \n",
       "0              0  \n",
       "1              0  \n",
       "2              1  \n",
       "3             55  \n",
       "4              0  \n",
       "...          ...  \n",
       "1454           0  \n",
       "1455           0  \n",
       "1456          36  \n",
       "1457           0  \n",
       "1458           1  \n",
       "\n",
       "[2903 rows x 261 columns]"
      ]
     },
     "execution_count": 13,
     "metadata": {},
     "output_type": "execute_result"
    }
   ],
   "source": [
    "Sale=train_set['SalePrice']\n",
    "test=train_set.columns\n",
    "test=test.drop('SalePrice')\n",
    "df=pd.concat([train_set[test],test_set],axis=0)\n",
    "dummy=pd.get_dummies(train_set[var_nominale])\n",
    "df=pd.concat([df,dummy],axis=1)\n",
    "df.drop('Id',axis=1,inplace=True)\n",
    "df.drop(var_nominale,axis=1,inplace=True)\n",
    "\n",
    "df['renovation']=df['YearRemodAdd']-df['YearBuilt']\n",
    "df.drop(['YearRemodAdd','YearBuilt'],axis=1,inplace=True)\n",
    "\n",
    "df"
   ]
  },
  {
   "cell_type": "code",
   "execution_count": 14,
   "id": "22a77e65",
   "metadata": {},
   "outputs": [
    {
     "data": {
      "text/plain": [
       "LotFrontage             0\n",
       "ExterCond_Ex            0\n",
       "ExterCond_Fa            0\n",
       "ExterCond_Gd            0\n",
       "ExterCond_Po            0\n",
       "                       ..\n",
       "Neighborhood_Sawyer     0\n",
       "Neighborhood_SawyerW    0\n",
       "Neighborhood_Somerst    0\n",
       "Neighborhood_Timber     0\n",
       "renovation              0\n",
       "Length: 261, dtype: int64"
      ]
     },
     "execution_count": 14,
     "metadata": {},
     "output_type": "execute_result"
    }
   ],
   "source": [
    "df.dropna(axis=0,inplace=True)\n",
    "df.isnull().sum().sort_values()"
   ]
  },
  {
   "cell_type": "code",
   "execution_count": 15,
   "id": "8c85c931",
   "metadata": {},
   "outputs": [],
   "source": [
    "train_set=pd.concat([df[:1460],Sale],axis=1)\n",
    "test_set=df[1460:]"
   ]
  },
  {
   "cell_type": "code",
   "execution_count": null,
   "id": "1411a852",
   "metadata": {},
   "outputs": [],
   "source": []
  },
  {
   "cell_type": "code",
   "execution_count": 16,
   "id": "446d79cb",
   "metadata": {},
   "outputs": [
    {
     "data": {
      "text/html": [
       "<div>\n",
       "<style scoped>\n",
       "    .dataframe tbody tr th:only-of-type {\n",
       "        vertical-align: middle;\n",
       "    }\n",
       "\n",
       "    .dataframe tbody tr th {\n",
       "        vertical-align: top;\n",
       "    }\n",
       "\n",
       "    .dataframe thead th {\n",
       "        text-align: right;\n",
       "    }\n",
       "</style>\n",
       "<table border=\"1\" class=\"dataframe\">\n",
       "  <thead>\n",
       "    <tr style=\"text-align: right;\">\n",
       "      <th></th>\n",
       "      <th>renovation</th>\n",
       "      <th>KitchenAbvGr</th>\n",
       "      <th>BedroomAbvGr</th>\n",
       "      <th>1stFlrSF</th>\n",
       "      <th>2ndFlrSF</th>\n",
       "      <th>LowQualFinSF</th>\n",
       "      <th>GrLivArea</th>\n",
       "      <th>BsmtFullBath</th>\n",
       "      <th>BsmtHalfBath</th>\n",
       "      <th>FullBath</th>\n",
       "      <th>...</th>\n",
       "      <th>LotFrontage</th>\n",
       "      <th>LotArea</th>\n",
       "      <th>BsmtFinSF1</th>\n",
       "      <th>BsmtFinSF2</th>\n",
       "      <th>BsmtUnfSF</th>\n",
       "      <th>TotalBsmtSF</th>\n",
       "      <th>YrSold</th>\n",
       "      <th>MoSold</th>\n",
       "      <th>MiscVal</th>\n",
       "      <th>PoolArea</th>\n",
       "    </tr>\n",
       "  </thead>\n",
       "  <tbody>\n",
       "    <tr>\n",
       "      <th>count</th>\n",
       "      <td>1460.000000</td>\n",
       "      <td>1460.000000</td>\n",
       "      <td>1460.000000</td>\n",
       "      <td>1460.000000</td>\n",
       "      <td>1460.000000</td>\n",
       "      <td>1460.000000</td>\n",
       "      <td>1460.000000</td>\n",
       "      <td>1460.000000</td>\n",
       "      <td>1460.000000</td>\n",
       "      <td>1460.000000</td>\n",
       "      <td>...</td>\n",
       "      <td>1460.000000</td>\n",
       "      <td>1460.000000</td>\n",
       "      <td>1460.000000</td>\n",
       "      <td>1460.000000</td>\n",
       "      <td>1460.000000</td>\n",
       "      <td>1460.000000</td>\n",
       "      <td>1460.000000</td>\n",
       "      <td>1460.000000</td>\n",
       "      <td>1460.000000</td>\n",
       "      <td>1460.000000</td>\n",
       "    </tr>\n",
       "    <tr>\n",
       "      <th>mean</th>\n",
       "      <td>13.597260</td>\n",
       "      <td>1.046575</td>\n",
       "      <td>2.864384</td>\n",
       "      <td>1156.732192</td>\n",
       "      <td>343.536301</td>\n",
       "      <td>5.844521</td>\n",
       "      <td>1506.113014</td>\n",
       "      <td>0.422603</td>\n",
       "      <td>0.056849</td>\n",
       "      <td>1.561644</td>\n",
       "      <td>...</td>\n",
       "      <td>69.780095</td>\n",
       "      <td>10454.196575</td>\n",
       "      <td>437.700685</td>\n",
       "      <td>46.647945</td>\n",
       "      <td>566.215753</td>\n",
       "      <td>1050.564384</td>\n",
       "      <td>2007.823288</td>\n",
       "      <td>6.323288</td>\n",
       "      <td>52.050685</td>\n",
       "      <td>2.050000</td>\n",
       "    </tr>\n",
       "    <tr>\n",
       "      <th>std</th>\n",
       "      <td>24.476831</td>\n",
       "      <td>0.220338</td>\n",
       "      <td>0.815018</td>\n",
       "      <td>368.989711</td>\n",
       "      <td>431.315085</td>\n",
       "      <td>48.623081</td>\n",
       "      <td>496.429777</td>\n",
       "      <td>0.517185</td>\n",
       "      <td>0.237478</td>\n",
       "      <td>0.547567</td>\n",
       "      <td>...</td>\n",
       "      <td>20.879038</td>\n",
       "      <td>9848.196339</td>\n",
       "      <td>429.974992</td>\n",
       "      <td>161.334813</td>\n",
       "      <td>441.867708</td>\n",
       "      <td>411.703974</td>\n",
       "      <td>1.332467</td>\n",
       "      <td>2.696100</td>\n",
       "      <td>593.644184</td>\n",
       "      <td>35.335398</td>\n",
       "    </tr>\n",
       "    <tr>\n",
       "      <th>min</th>\n",
       "      <td>0.000000</td>\n",
       "      <td>0.000000</td>\n",
       "      <td>0.000000</td>\n",
       "      <td>334.000000</td>\n",
       "      <td>0.000000</td>\n",
       "      <td>0.000000</td>\n",
       "      <td>334.000000</td>\n",
       "      <td>0.000000</td>\n",
       "      <td>0.000000</td>\n",
       "      <td>0.000000</td>\n",
       "      <td>...</td>\n",
       "      <td>21.000000</td>\n",
       "      <td>1300.000000</td>\n",
       "      <td>0.000000</td>\n",
       "      <td>0.000000</td>\n",
       "      <td>0.000000</td>\n",
       "      <td>0.000000</td>\n",
       "      <td>2006.000000</td>\n",
       "      <td>1.000000</td>\n",
       "      <td>0.000000</td>\n",
       "      <td>0.000000</td>\n",
       "    </tr>\n",
       "    <tr>\n",
       "      <th>25%</th>\n",
       "      <td>0.000000</td>\n",
       "      <td>1.000000</td>\n",
       "      <td>2.000000</td>\n",
       "      <td>882.000000</td>\n",
       "      <td>0.000000</td>\n",
       "      <td>0.000000</td>\n",
       "      <td>1128.000000</td>\n",
       "      <td>0.000000</td>\n",
       "      <td>0.000000</td>\n",
       "      <td>1.000000</td>\n",
       "      <td>...</td>\n",
       "      <td>60.000000</td>\n",
       "      <td>7553.500000</td>\n",
       "      <td>0.000000</td>\n",
       "      <td>0.000000</td>\n",
       "      <td>222.500000</td>\n",
       "      <td>795.750000</td>\n",
       "      <td>2007.000000</td>\n",
       "      <td>5.000000</td>\n",
       "      <td>0.000000</td>\n",
       "      <td>0.000000</td>\n",
       "    </tr>\n",
       "    <tr>\n",
       "      <th>50%</th>\n",
       "      <td>0.000000</td>\n",
       "      <td>1.000000</td>\n",
       "      <td>3.000000</td>\n",
       "      <td>1086.000000</td>\n",
       "      <td>0.000000</td>\n",
       "      <td>0.000000</td>\n",
       "      <td>1458.500000</td>\n",
       "      <td>0.000000</td>\n",
       "      <td>0.000000</td>\n",
       "      <td>2.000000</td>\n",
       "      <td>...</td>\n",
       "      <td>70.049958</td>\n",
       "      <td>9478.500000</td>\n",
       "      <td>383.500000</td>\n",
       "      <td>0.000000</td>\n",
       "      <td>474.000000</td>\n",
       "      <td>990.000000</td>\n",
       "      <td>2008.000000</td>\n",
       "      <td>6.000000</td>\n",
       "      <td>0.000000</td>\n",
       "      <td>0.000000</td>\n",
       "    </tr>\n",
       "    <tr>\n",
       "      <th>75%</th>\n",
       "      <td>20.000000</td>\n",
       "      <td>1.000000</td>\n",
       "      <td>3.000000</td>\n",
       "      <td>1384.500000</td>\n",
       "      <td>728.000000</td>\n",
       "      <td>0.000000</td>\n",
       "      <td>1774.250000</td>\n",
       "      <td>1.000000</td>\n",
       "      <td>0.000000</td>\n",
       "      <td>2.000000</td>\n",
       "      <td>...</td>\n",
       "      <td>79.000000</td>\n",
       "      <td>11600.000000</td>\n",
       "      <td>709.000000</td>\n",
       "      <td>0.000000</td>\n",
       "      <td>806.500000</td>\n",
       "      <td>1293.750000</td>\n",
       "      <td>2009.000000</td>\n",
       "      <td>8.000000</td>\n",
       "      <td>0.000000</td>\n",
       "      <td>0.000000</td>\n",
       "    </tr>\n",
       "    <tr>\n",
       "      <th>max</th>\n",
       "      <td>123.000000</td>\n",
       "      <td>3.000000</td>\n",
       "      <td>8.000000</td>\n",
       "      <td>3228.000000</td>\n",
       "      <td>1818.000000</td>\n",
       "      <td>572.000000</td>\n",
       "      <td>3627.000000</td>\n",
       "      <td>3.000000</td>\n",
       "      <td>2.000000</td>\n",
       "      <td>3.000000</td>\n",
       "      <td>...</td>\n",
       "      <td>313.000000</td>\n",
       "      <td>215245.000000</td>\n",
       "      <td>2188.000000</td>\n",
       "      <td>1474.000000</td>\n",
       "      <td>2336.000000</td>\n",
       "      <td>3206.000000</td>\n",
       "      <td>2010.000000</td>\n",
       "      <td>12.000000</td>\n",
       "      <td>15500.000000</td>\n",
       "      <td>738.000000</td>\n",
       "    </tr>\n",
       "  </tbody>\n",
       "</table>\n",
       "<p>8 rows × 31 columns</p>\n",
       "</div>"
      ],
      "text/plain": [
       "        renovation  KitchenAbvGr  BedroomAbvGr     1stFlrSF     2ndFlrSF  \\\n",
       "count  1460.000000   1460.000000   1460.000000  1460.000000  1460.000000   \n",
       "mean     13.597260      1.046575      2.864384  1156.732192   343.536301   \n",
       "std      24.476831      0.220338      0.815018   368.989711   431.315085   \n",
       "min       0.000000      0.000000      0.000000   334.000000     0.000000   \n",
       "25%       0.000000      1.000000      2.000000   882.000000     0.000000   \n",
       "50%       0.000000      1.000000      3.000000  1086.000000     0.000000   \n",
       "75%      20.000000      1.000000      3.000000  1384.500000   728.000000   \n",
       "max     123.000000      3.000000      8.000000  3228.000000  1818.000000   \n",
       "\n",
       "       LowQualFinSF    GrLivArea  BsmtFullBath  BsmtHalfBath     FullBath  \\\n",
       "count   1460.000000  1460.000000   1460.000000   1460.000000  1460.000000   \n",
       "mean       5.844521  1506.113014      0.422603      0.056849     1.561644   \n",
       "std       48.623081   496.429777      0.517185      0.237478     0.547567   \n",
       "min        0.000000   334.000000      0.000000      0.000000     0.000000   \n",
       "25%        0.000000  1128.000000      0.000000      0.000000     1.000000   \n",
       "50%        0.000000  1458.500000      0.000000      0.000000     2.000000   \n",
       "75%        0.000000  1774.250000      1.000000      0.000000     2.000000   \n",
       "max      572.000000  3627.000000      3.000000      2.000000     3.000000   \n",
       "\n",
       "       ...  LotFrontage        LotArea   BsmtFinSF1   BsmtFinSF2    BsmtUnfSF  \\\n",
       "count  ...  1460.000000    1460.000000  1460.000000  1460.000000  1460.000000   \n",
       "mean   ...    69.780095   10454.196575   437.700685    46.647945   566.215753   \n",
       "std    ...    20.879038    9848.196339   429.974992   161.334813   441.867708   \n",
       "min    ...    21.000000    1300.000000     0.000000     0.000000     0.000000   \n",
       "25%    ...    60.000000    7553.500000     0.000000     0.000000   222.500000   \n",
       "50%    ...    70.049958    9478.500000   383.500000     0.000000   474.000000   \n",
       "75%    ...    79.000000   11600.000000   709.000000     0.000000   806.500000   \n",
       "max    ...   313.000000  215245.000000  2188.000000  1474.000000  2336.000000   \n",
       "\n",
       "       TotalBsmtSF       YrSold       MoSold       MiscVal     PoolArea  \n",
       "count  1460.000000  1460.000000  1460.000000   1460.000000  1460.000000  \n",
       "mean   1050.564384  2007.823288     6.323288     52.050685     2.050000  \n",
       "std     411.703974     1.332467     2.696100    593.644184    35.335398  \n",
       "min       0.000000  2006.000000     1.000000      0.000000     0.000000  \n",
       "25%     795.750000  2007.000000     5.000000      0.000000     0.000000  \n",
       "50%     990.000000  2008.000000     6.000000      0.000000     0.000000  \n",
       "75%    1293.750000  2009.000000     8.000000      0.000000     0.000000  \n",
       "max    3206.000000  2010.000000    12.000000  15500.000000   738.000000  \n",
       "\n",
       "[8 rows x 31 columns]"
      ]
     },
     "execution_count": 16,
     "metadata": {},
     "output_type": "execute_result"
    }
   ],
   "source": [
    "train_set[var_quantitative1].describe()"
   ]
  },
  {
   "cell_type": "code",
   "execution_count": 17,
   "id": "82985b5f",
   "metadata": {},
   "outputs": [
    {
     "data": {
      "text/plain": [
       "Index(['Foundation_PConc', 'BsmtQual_TA', 'GarageFinish_Unf', 'KitchenQual_TA',\n",
       "       'TotRmsAbvGrd', 'BsmtQual_Ex', 'FullBath', 'ExterQual_TA', '1stFlrSF',\n",
       "       'GarageArea', 'TotalBsmtSF', 'GarageCars', 'GrLivArea'],\n",
       "      dtype='object')"
      ]
     },
     "execution_count": 17,
     "metadata": {},
     "output_type": "execute_result"
    }
   ],
   "source": [
    "corr=train_set.corr()\n",
    "k=corr['SalePrice'].abs().sort_values()\n",
    "z=k[k>0.5].index\n",
    "z=z[:len(z)-1]\n",
    "z"
   ]
  },
  {
   "cell_type": "code",
   "execution_count": 18,
   "id": "0be782af",
   "metadata": {
    "scrolled": true
   },
   "outputs": [],
   "source": [
    "train_set.drop_duplicates(keep = 'first', inplace=True)"
   ]
  },
  {
   "cell_type": "code",
   "execution_count": 19,
   "id": "beff4de4",
   "metadata": {},
   "outputs": [],
   "source": [
    "test=train_set.columns\n",
    "test=test.drop('SalePrice')"
   ]
  },
  {
   "cell_type": "code",
   "execution_count": 20,
   "id": "f05fda67",
   "metadata": {},
   "outputs": [
    {
     "data": {
      "text/plain": [
       "Foundation_PConc    0.506053\n",
       "BsmtQual_TA         0.508463\n",
       "GarageFinish_Unf    0.524392\n",
       "KitchenQual_TA      0.528649\n",
       "TotRmsAbvGrd        0.536639\n",
       "BsmtQual_Ex         0.548355\n",
       "FullBath            0.558009\n",
       "ExterQual_TA        0.599476\n",
       "1stFlrSF            0.624568\n",
       "GarageArea          0.636677\n",
       "TotalBsmtSF         0.646141\n",
       "GarageCars          0.648319\n",
       "GrLivArea           0.719615\n",
       "Name: SalePrice, dtype: float64"
      ]
     },
     "execution_count": 20,
     "metadata": {},
     "output_type": "execute_result"
    }
   ],
   "source": [
    "corr['SalePrice'][z].abs().sort_values()"
   ]
  },
  {
   "cell_type": "markdown",
   "id": "f3f12713",
   "metadata": {},
   "source": [
    "from sklearn.linear_model import LinearRegression\n",
    "from sklearn.metrics import mean_squared_error\n",
    "X=train_set[z]\n",
    "y=train_set['SalePrice']\n",
    "lr=LinearRegression()\n",
    "lr.fit(X,train_set['SalePrice'])\n",
    "y_pred=lr.predict(X)\n"
   ]
  },
  {
   "cell_type": "code",
   "execution_count": 21,
   "id": "6be4455d",
   "metadata": {},
   "outputs": [
    {
     "data": {
      "text/plain": [
       "LotFrontage       0\n",
       "LotArea           0\n",
       "MasVnrArea        0\n",
       "BsmtFinSF1        0\n",
       "BsmtFinSF2        0\n",
       "                 ..\n",
       "KitchenQual_Ex    0\n",
       "KitchenQual_Fa    0\n",
       "KitchenQual_Gd    0\n",
       "KitchenQual_TA    0\n",
       "renovation        0\n",
       "Length: 261, dtype: int64"
      ]
     },
     "execution_count": 21,
     "metadata": {},
     "output_type": "execute_result"
    }
   ],
   "source": [
    "train_set.isnull().sum()\n",
    "test_set.isnull().sum()"
   ]
  },
  {
   "cell_type": "code",
   "execution_count": 22,
   "id": "7d4fa2e9",
   "metadata": {},
   "outputs": [],
   "source": [
    "#Regression lineaire avec la colonne \"GrLivArea\""
   ]
  },
  {
   "cell_type": "code",
   "execution_count": 23,
   "id": "a38b5517",
   "metadata": {},
   "outputs": [],
   "source": [
    "from sklearn.linear_model import LinearRegression\n",
    "from sklearn.metrics import mean_squared_error\n",
    "X=train_set[['GrLivArea']]\n",
    "y=train_set['SalePrice']\n",
    "lr=LinearRegression()\n",
    "lr.fit(X,train_set['SalePrice'])\n",
    "y_pred=lr.predict(X)"
   ]
  },
  {
   "cell_type": "code",
   "execution_count": 24,
   "id": "c553f3f9",
   "metadata": {},
   "outputs": [
    {
     "data": {
      "text/plain": [
       "2827911186.7493577"
      ]
     },
     "execution_count": 24,
     "metadata": {},
     "output_type": "execute_result"
    }
   ],
   "source": [
    "mean_squared_error(train_set['SalePrice'], y_pred)"
   ]
  },
  {
   "cell_type": "code",
   "execution_count": 25,
   "id": "c037f527",
   "metadata": {},
   "outputs": [],
   "source": [
    "#Regression lineaire multiple avec toute les var Quantitative"
   ]
  },
  {
   "cell_type": "code",
   "execution_count": 26,
   "id": "6ded2839",
   "metadata": {},
   "outputs": [],
   "source": [
    "from sklearn.linear_model import LinearRegression\n",
    "from sklearn.metrics import mean_squared_error\n",
    "X=train_set[test]\n",
    "y=train_set['SalePrice']\n",
    "lr=LinearRegression()\n",
    "lr.fit(X,train_set['SalePrice'])\n",
    "y_pred=lr.predict(X)"
   ]
  },
  {
   "cell_type": "code",
   "execution_count": 27,
   "id": "22191dac",
   "metadata": {
    "scrolled": true
   },
   "outputs": [
    {
     "data": {
      "text/plain": [
       "400786366.6144851"
      ]
     },
     "execution_count": 27,
     "metadata": {},
     "output_type": "execute_result"
    }
   ],
   "source": [
    "mean_squared_error(train_set['SalePrice'], y_pred)"
   ]
  },
  {
   "cell_type": "code",
   "execution_count": 28,
   "id": "db867d80",
   "metadata": {},
   "outputs": [],
   "source": [
    "#Regression lineaire multiple avec toute les var Quantitative ayant une correlation superieur a 0.5 "
   ]
  },
  {
   "cell_type": "code",
   "execution_count": 29,
   "id": "093dad3c",
   "metadata": {},
   "outputs": [],
   "source": [
    "from sklearn.linear_model import LinearRegression\n",
    "from sklearn.metrics import mean_squared_error\n",
    "X=train_set[z]\n",
    "y=train_set['SalePrice']\n",
    "lr=LinearRegression()\n",
    "lr.fit(X,train_set['SalePrice'])\n",
    "y_pred=lr.predict(X)"
   ]
  },
  {
   "cell_type": "code",
   "execution_count": 30,
   "id": "07d8b43a",
   "metadata": {},
   "outputs": [
    {
     "data": {
      "text/plain": [
       "1075681625.4287364"
      ]
     },
     "execution_count": 30,
     "metadata": {},
     "output_type": "execute_result"
    }
   ],
   "source": [
    "mean_squared_error(train_set['SalePrice'], y_pred)"
   ]
  },
  {
   "cell_type": "code",
   "execution_count": null,
   "id": "6d2c05e4",
   "metadata": {},
   "outputs": [],
   "source": []
  },
  {
   "cell_type": "code",
   "execution_count": 31,
   "id": "cf89091a",
   "metadata": {},
   "outputs": [],
   "source": [
    "from sklearn.neighbors import KNeighborsRegressor\n",
    "from sklearn.metrics import mean_squared_error\n",
    "X=train_set[z]\n",
    "y=train_set['SalePrice']\n",
    "lr=KNeighborsRegressor(n_neighbors=5,algorithm='brute')\n",
    "lr.fit(train_set,train_set['SalePrice'])\n",
    "y_pred=lr.predict(train_set)"
   ]
  },
  {
   "cell_type": "code",
   "execution_count": 32,
   "id": "0607098b",
   "metadata": {},
   "outputs": [
    {
     "data": {
      "text/plain": [
       "7116430.512767127"
      ]
     },
     "execution_count": 32,
     "metadata": {},
     "output_type": "execute_result"
    }
   ],
   "source": [
    "mean_squared_error(train_set['SalePrice'], y_pred)"
   ]
  },
  {
   "cell_type": "code",
   "execution_count": null,
   "id": "99a9db86",
   "metadata": {},
   "outputs": [],
   "source": []
  },
  {
   "cell_type": "code",
   "execution_count": 33,
   "id": "1d482357",
   "metadata": {},
   "outputs": [],
   "source": [
    "from sklearn.linear_model import LinearRegression\n",
    "from sklearn.metrics import mean_squared_error\n",
    "X=train_set[['GrLivArea']]\n",
    "y=train_set['SalePrice']\n",
    "lr=LinearRegression()\n",
    "lr.fit(X,train_set['SalePrice'])\n",
    "y_pred=lr.predict(X)"
   ]
  },
  {
   "cell_type": "code",
   "execution_count": 34,
   "id": "3f45f887",
   "metadata": {},
   "outputs": [
    {
     "data": {
      "text/plain": [
       "2827911186.7493577"
      ]
     },
     "execution_count": 34,
     "metadata": {},
     "output_type": "execute_result"
    }
   ],
   "source": [
    "mean_squared_error(train_set['SalePrice'], y_pred)"
   ]
  },
  {
   "cell_type": "code",
   "execution_count": 35,
   "id": "5123a5c2",
   "metadata": {},
   "outputs": [
    {
     "data": {
      "text/plain": [
       "<AxesSubplot:xlabel='GrLivArea', ylabel='SalePrice'>"
      ]
     },
     "execution_count": 35,
     "metadata": {},
     "output_type": "execute_result"
    },
    {
     "data": {
      "image/png": "[encoded data removed]",
      "text/plain": [
       "<Figure size 432x288 with 1 Axes>"
      ]
     },
     "metadata": {
      "needs_background": "light"
     },
     "output_type": "display_data"
    }
   ],
   "source": [
    "train_set.plot(kind='scatter',x='GrLivArea',y='SalePrice')"
   ]
  },
  {
   "cell_type": "code",
   "execution_count": 36,
   "id": "9df82a9c",
   "metadata": {},
   "outputs": [],
   "source": [
    "# Fitting Polynomial Regression to the dataset\n",
    "from sklearn.preprocessing import PolynomialFeatures\n",
    "X=train_set[['GrLivArea']]\n",
    "y=train_set['SalePrice']\n",
    "poly_reg = PolynomialFeatures(degree=4)\n",
    "X_poly = poly_reg.fit_transform(X)\n",
    "pol_reg = LinearRegression()\n",
    "pol_reg.fit(X_poly, y)\n",
    "y_pred=pol_reg.predict(X_poly)"
   ]
  },
  {
   "cell_type": "code",
   "execution_count": 37,
   "id": "c2c7347b",
   "metadata": {},
   "outputs": [
    {
     "data": {
      "text/plain": [
       "2823197016.9753833"
      ]
     },
     "execution_count": 37,
     "metadata": {},
     "output_type": "execute_result"
    }
   ],
   "source": [
    "mean_squared_error(train_set['SalePrice'], y_pred)"
   ]
  },
  {
   "cell_type": "code",
   "execution_count": 38,
   "id": "569266d4",
   "metadata": {},
   "outputs": [],
   "source": [
    "#Algorithme SVM"
   ]
  },
  {
   "cell_type": "code",
   "execution_count": 39,
   "id": "cca34b9c",
   "metadata": {},
   "outputs": [
    {
     "name": "stderr",
     "output_type": "stream",
     "text": [
      "C:\\Users\\MohamedHosameKANALI\\AppData\\Roaming\\Python\\Python39\\site-packages\\sklearn\\svm\\_base.py:1225: ConvergenceWarning: Liblinear failed to converge, increase the number of iterations.\n",
      "  warnings.warn(\n"
     ]
    }
   ],
   "source": [
    "from sklearn.svm import LinearSVC\n",
    "lr=LinearSVC(C=2,loss='hinge')\n",
    "X=train_set[z]\n",
    "y=train_set['SalePrice']\n",
    "lr.fit(X,y)\n",
    "y_pred=lr.predict(X)"
   ]
  },
  {
   "cell_type": "code",
   "execution_count": 40,
   "id": "80bf3d8a",
   "metadata": {},
   "outputs": [
    {
     "data": {
      "text/plain": [
       "12818237572.312328"
      ]
     },
     "execution_count": 40,
     "metadata": {},
     "output_type": "execute_result"
    }
   ],
   "source": [
    "mean_squared_error(train_set['SalePrice'], y_pred)"
   ]
  },
  {
   "cell_type": "code",
   "execution_count": null,
   "id": "107d9b82",
   "metadata": {},
   "outputs": [],
   "source": []
  },
  {
   "cell_type": "code",
   "execution_count": 41,
   "id": "6bc31111",
   "metadata": {},
   "outputs": [],
   "source": [
    "from sklearn.preprocessing import MinMaxScaler\n",
    "        # define min max scaler\n",
    "scaler = MinMaxScaler()\n",
    "        # transform data\n",
    "train_set[var_quantitative1] = scaler.fit_transform(train_set[var_quantitative1])"
   ]
  },
  {
   "cell_type": "code",
   "execution_count": 54,
   "id": "c7713d30",
   "metadata": {},
   "outputs": [],
   "source": [
    "from sklearn.linear_model import LinearRegression\n",
    "from sklearn.metrics import mean_squared_error\n",
    "X=train_set[test]\n",
    "y=train_set['SalePrice']\n",
    "lr=LinearRegression()\n",
    "lr.fit(X,train_set['SalePrice'])\n",
    "y_pred=lr.predict(X)"
   ]
  },
  {
   "cell_type": "code",
   "execution_count": 55,
   "id": "279db197",
   "metadata": {},
   "outputs": [
    {
     "data": {
      "text/plain": [
       "400786398.32437927"
      ]
     },
     "execution_count": 55,
     "metadata": {},
     "output_type": "execute_result"
    }
   ],
   "source": [
    "mean_squared_error(train_set['SalePrice'], y_pred)"
   ]
  },
  {
   "cell_type": "code",
   "execution_count": 56,
   "id": "1e060050",
   "metadata": {},
   "outputs": [
    {
     "data": {
      "text/plain": [
       "13809.381549657533"
      ]
     },
     "execution_count": 56,
     "metadata": {},
     "output_type": "execute_result"
    }
   ],
   "source": [
    "from sklearn.metrics import mean_absolute_error\n",
    "mean_absolute_error(train_set['SalePrice'], y_pred)"
   ]
  },
  {
   "cell_type": "code",
   "execution_count": 57,
   "id": "5356d576",
   "metadata": {},
   "outputs": [],
   "source": [
    "#Arbre de decision"
   ]
  },
  {
   "cell_type": "code",
   "execution_count": 45,
   "id": "075635b2",
   "metadata": {},
   "outputs": [],
   "source": [
    "#test_set.isnull().sum()\n",
    "#je dois chercher pk j'ai des valeurs Null??????????????????????????????????????????????????????"
   ]
  },
  {
   "cell_type": "code",
   "execution_count": null,
   "id": "9183a463",
   "metadata": {},
   "outputs": [],
   "source": []
  },
  {
   "cell_type": "code",
   "execution_count": null,
   "id": "9c76292f",
   "metadata": {},
   "outputs": [],
   "source": []
  },
  {
   "cell_type": "code",
   "execution_count": 46,
   "id": "6ab16135",
   "metadata": {},
   "outputs": [],
   "source": [
    "from sklearn.tree import DecisionTreeRegressor \n",
    "X=train_set[test]\n",
    "y=train_set['SalePrice']\n",
    "regressor = DecisionTreeRegressor(random_state = 0) \n",
    "regressor.fit(X, y)\n",
    "y_pred=regressor.predict(X)"
   ]
  },
  {
   "cell_type": "code",
   "execution_count": 47,
   "id": "3f01c1ef",
   "metadata": {},
   "outputs": [
    {
     "data": {
      "text/plain": [
       "0.0"
      ]
     },
     "execution_count": 47,
     "metadata": {},
     "output_type": "execute_result"
    }
   ],
   "source": [
    "from sklearn.metrics import mean_squared_error\n",
    "mean_squared_error(train_set['SalePrice'], y_pred)"
   ]
  },
  {
   "cell_type": "code",
   "execution_count": 48,
   "id": "d0916297",
   "metadata": {},
   "outputs": [
    {
     "data": {
      "text/plain": [
       "array([625000.,  81000., 440000., ..., 206300., 430000., 395000.])"
      ]
     },
     "execution_count": 48,
     "metadata": {},
     "output_type": "execute_result"
    }
   ],
   "source": [
    "y_pred=regressor.predict(test_set)\n",
    "y_pred"
   ]
  },
  {
   "cell_type": "code",
   "execution_count": null,
   "id": "a4c41016",
   "metadata": {},
   "outputs": [],
   "source": []
  }
 ],
 "metadata": {
  "kernelspec": {
   "display_name": "Python 3 (ipykernel)",
   "language": "python",
   "name": "python3"
  },
  "language_info": {
   "codemirror_mode": {
    "name": "ipython",
    "version": 3
   },
   "file_extension": ".py",
   "mimetype": "text/x-python",
   "name": "python",
   "nbconvert_exporter": "python",
   "pygments_lexer": "ipython3",
   "version": "3.9.12"
  }
 },
 "nbformat": 4,
 "nbformat_minor": 5
}
